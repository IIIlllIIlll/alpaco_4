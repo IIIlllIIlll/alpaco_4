{
 "cells": [
  {
   "cell_type": "code",
   "execution_count": 21,
   "metadata": {},
   "outputs": [],
   "source": [
    "import requests\n",
    "import json\n",
    "import openpyxl\n",
    "\n",
    "key = input()\n",
    "wb = openpyxl.Workbook()\n",
    "ws = wb.active #활성화된 시트 선택\n",
    "ws.title = key #시트이름 변경\n",
    "ws.append(['검색어연관키워드 추출 결과'])\n",
    "ws.append(['순번','연관키워드'])\n",
    "\n",
    "\n",
    "text = list('ㄱㄴㄷㄹㅁㅂㅅㅇㅈㅊㅋㅌㅍㅎ')\n",
    "header = {\n",
    "    'User-Agent' : 'Mozila/5.0',\n",
    "    'referer': 'https://www.naver.com/'\n",
    "}\n",
    "a= 1\n",
    "for abcd in text:\n",
    "    response = requests.get(f'https://ac.search.naver.com/nx/ac?q={key}{abcd}&con=0&frm=nv&ans=2&r_format=json&r_enc=UTF-8&r_unicode=0&t_koreng=1&run=2&rev=4&q_enc=UTF-8&st=100')\n",
    "    data = json.loads(response.text)\n",
    "    results = data['items'][0]\n",
    "    \n",
    "    for result in results:\n",
    "         save = result[0]\n",
    "         #save_ = save[len(key):]\n",
    "         #save_ = save.replace(key,'')\n",
    "         ws.append([a,save])\n",
    "         a+=1\n",
    "wb.save(f'{key}.xlsx')\n"
   ]
  },
  {
   "cell_type": "code",
   "execution_count": null,
   "metadata": {},
   "outputs": [],
   "source": []
  }
 ],
 "metadata": {
  "kernelspec": {
   "display_name": "Python 3.9.12 ('base')",
   "language": "python",
   "name": "python3"
  },
  "language_info": {
   "codemirror_mode": {
    "name": "ipython",
    "version": 3
   },
   "file_extension": ".py",
   "mimetype": "text/x-python",
   "name": "python",
   "nbconvert_exporter": "python",
   "pygments_lexer": "ipython3",
   "version": "3.9.12"
  },
  "orig_nbformat": 4,
  "vscode": {
   "interpreter": {
    "hash": "ff4f85d6e04298634172ac5d8264e7e9b556b95639fe52ebb9425c4d4cba0c9c"
   }
  }
 },
 "nbformat": 4,
 "nbformat_minor": 2
}
