{
 "cells": [
  {
   "cell_type": "code",
   "execution_count": null,
   "metadata": {},
   "outputs": [],
   "source": [
    "#1페이지 뉴스가져오기\n",
    "import requests\n",
    "from bs4 import BeautifulSoup\n",
    "import openpyxl\n",
    "\n",
    "response = requests.get('https://search.naver.com/search.naver?where=news&ie=utf8&sm=nws_hty&query=%EC%84%B1%EC%88%98%EC%97%AD+%EB%A7%9B%EC%A7%91')\n",
    "html = response.text\n",
    "soup = BeautifulSoup(html, 'html.parser')\n",
    "news = soup.select('.news_area')\n",
    "a=0\n",
    "for i in news:\n",
    "    a+=1\n",
    "    anchor = i.select_one('.news_tit')\n",
    "    title = anchor.text\n",
    "    url = anchor.attrs['href']\n",
    "    con = i.select_one('.api_txt_lines.dsc_txt_wrap').text\n",
    "    print(f'{a}{title}{url}{con}')"
   ]
  },
  {
   "cell_type": "code",
   "execution_count": null,
   "metadata": {},
   "outputs": [],
   "source": [
    "# 페이지,키워드 입력받아서 뉴스 가져오기\n",
    "key = input('키워드 : ')\n",
    "pages = int(input('페이지수 : '))\n",
    "a=0\n",
    "for page in range(1,pages+1):\n",
    "    print(f'{page}페이지 크롤링중')\n",
    "    response = requests.get(f'https://search.naver.com/search.naver?where=news&sm=tab_pge&query={key}&sort=0&photo=0&field=0&pd=0&ds=&de=&cluster_rank=70&mynews=0&office_type=0&office_section_code=0&news_office_checked=&nso=so:r,p:all,a:all&start={10*(page-1)+1}')\n",
    "    html = response.text\n",
    "    soup = BeautifulSoup(html, 'html.parser')\n",
    "    news = soup.select('.news_area')\n",
    "    for i in news:\n",
    "        a+=1\n",
    "        anchor = i.select_one('.news_tit')\n",
    "        title = anchor.text\n",
    "        url = anchor.attrs['href']\n",
    "        con = i.select_one('.api_txt_lines.dsc_txt_wrap').text\n",
    "        print(f'{a}\\n{title}{url}{con}')"
   ]
  },
  {
   "cell_type": "code",
   "execution_count": 22,
   "metadata": {},
   "outputs": [
    {
     "name": "stdout",
     "output_type": "stream",
     "text": [
      "1페이지 크롤링중\n",
      "2페이지 크롤링중\n",
      "3페이지 크롤링중\n"
     ]
    }
   ],
   "source": [
    "# 페이지,키워드 입력받아서 뉴스 가져오기\n",
    "\n",
    "wb = openpyxl.load_workbook('월드컵.xlsx')\n",
    "\n",
    "key = input('키워드 : ')\n",
    "pages = int(input('페이지수 : '))\n",
    "a=0\n",
    "\n",
    "ws = wb.create_sheet(key)\n",
    "ws.append(['순번','제목','url','내용'])\n",
    "\n",
    "for page in range(1,pages+1):\n",
    "    print(f'{page}페이지 크롤링중')\n",
    "    response = requests.get(f'https://search.naver.com/search.naver?where=news&sm=tab_pge&query={key}&cluster_rank=70&nso=so:r,p:all,a:all&start={10*(page-1)+1}')\n",
    "    html = response.text\n",
    "    soup = BeautifulSoup(html, 'html.parser')\n",
    "    news = soup.select('.news_area')\n",
    "    for i in news:\n",
    "        a+=1\n",
    "        anchor = i.select_one('.news_tit')\n",
    "        title = anchor.text\n",
    "        url = anchor.attrs['href']\n",
    "        con = i.select_one('.api_txt_lines.dsc_txt_wrap').text\n",
    "        ws.append([a,title,url,con])\n",
    "\n",
    "wb.save('월드컵.xlsx')"
   ]
  },
  {
   "cell_type": "code",
   "execution_count": null,
   "metadata": {},
   "outputs": [],
   "source": []
  }
 ],
 "metadata": {
  "kernelspec": {
   "display_name": "Python 3.9.12 ('base')",
   "language": "python",
   "name": "python3"
  },
  "language_info": {
   "codemirror_mode": {
    "name": "ipython",
    "version": 3
   },
   "file_extension": ".py",
   "mimetype": "text/x-python",
   "name": "python",
   "nbconvert_exporter": "python",
   "pygments_lexer": "ipython3",
   "version": "3.9.12"
  },
  "orig_nbformat": 4,
  "vscode": {
   "interpreter": {
    "hash": "ff4f85d6e04298634172ac5d8264e7e9b556b95639fe52ebb9425c4d4cba0c9c"
   }
  }
 },
 "nbformat": 4,
 "nbformat_minor": 2
}
