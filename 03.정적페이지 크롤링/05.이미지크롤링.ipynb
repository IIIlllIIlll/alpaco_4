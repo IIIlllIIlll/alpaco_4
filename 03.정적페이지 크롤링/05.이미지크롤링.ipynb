{
 "cells": [
  {
   "cell_type": "code",
   "execution_count": 5,
   "metadata": {},
   "outputs": [],
   "source": [
    "#1페이지 뉴스가져오기\n",
    "import requests\n",
    "from bs4 import BeautifulSoup\n",
    "import openpyxl\n",
    "import urllib.request\n",
    "\n",
    "response = requests.get('https://search.naver.com/search.naver?where=news&ie=utf8&sm=nws_hty&query=%EC%84%B1%EC%88%98%EC%97%AD+%EB%A7%9B%EC%A7%91')\n",
    "html = response.text\n",
    "soup = BeautifulSoup(html, 'html.parser')\n",
    "news = soup.select('.api_ani_send')\n",
    "a=0\n",
    "for i in news:\n",
    "    a+=1\n",
    "    img = i.select_one('.thumb.api_get')\n",
    "    src = img.attrs['src']\n",
    "    #이미지 저장\n",
    "    urllib.request.urlretrieve(src,f'C:/Users/kjk42/OneDrive/문서/Python Scripts/alpa_4/04.images/성수역맛집_{a}.jpg')"
   ]
  },
  {
   "cell_type": "code",
   "execution_count": null,
   "metadata": {},
   "outputs": [],
   "source": [
    "#header option\n",
    "header = {\n",
    "    'User~Agent' : 'Mozila/5.0'\n",
    "}\n",
    "\n",
    "headers = header"
   ]
  }
 ],
 "metadata": {
  "kernelspec": {
   "display_name": "Python 3.9.12 ('base')",
   "language": "python",
   "name": "python3"
  },
  "language_info": {
   "codemirror_mode": {
    "name": "ipython",
    "version": 3
   },
   "file_extension": ".py",
   "mimetype": "text/x-python",
   "name": "python",
   "nbconvert_exporter": "python",
   "pygments_lexer": "ipython3",
   "version": "3.9.12"
  },
  "orig_nbformat": 4,
  "vscode": {
   "interpreter": {
    "hash": "ff4f85d6e04298634172ac5d8264e7e9b556b95639fe52ebb9425c4d4cba0c9c"
   }
  }
 },
 "nbformat": 4,
 "nbformat_minor": 2
}
