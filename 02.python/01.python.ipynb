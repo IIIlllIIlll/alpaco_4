{
 "cells": [
  {
   "cell_type": "code",
   "execution_count": null,
   "metadata": {},
   "outputs": [],
   "source": [
    "a = int(input('현재 구독자수:'))\n",
    "b = int(input('시청자 수:'))\n",
    "if a>=1000 and b>=4000:\n",
    "    print('수익창출가능')\n",
    "else:\n",
    "    print('수익창출불가능')"
   ]
  },
  {
   "cell_type": "code",
   "execution_count": null,
   "metadata": {},
   "outputs": [],
   "source": [
    "a=int(input('팔굽혀펴기'))\n",
    "b=int(input('윗몸일으키기'))\n",
    "c=int(input('턱걸이'))\n",
    "if a>=30 or b>=35 or c>=5:\n",
    "    print('pass')\n",
    "else:\n",
    "    print('fail')"
   ]
  },
  {
   "cell_type": "code",
   "execution_count": null,
   "metadata": {},
   "outputs": [],
   "source": [
    "a=int(input('필기점수:'))\n",
    "if a>=80:\n",
    "    b=input('면접결과')\n",
    "    if b=='pass':\n",
    "        print('최종합격')\n",
    "    else:\n",
    "        print('불합격')\n",
    "else:\n",
    "    print('불합격')"
   ]
  },
  {
   "cell_type": "code",
   "execution_count": null,
   "metadata": {},
   "outputs": [],
   "source": [
    "while True:\n",
    "    print('[메뉴를 입력하세요]\\n1. 게임 시작 2. 랭킹 보기 3. 게임종료')\n",
    "    a= int(input())\n",
    "    if a == 1:\n",
    "        print('->게임을 시작합니다.')\n",
    "       \n",
    "    elif a== 2:\n",
    "        print('->실시간 랭킹')\n",
    "        \n",
    "    elif a== 3:\n",
    "        print('->게임을 종료합니다')\n",
    "        break\n",
    "    else:\n",
    "        print('->다시입력하세요')\n",
    "\n"
   ]
  },
  {
   "cell_type": "code",
   "execution_count": null,
   "metadata": {},
   "outputs": [],
   "source": [
    "a=int(input())\n",
    "for i in range (1,a+1):\n",
    "    print(' '*(a-i)+'*'*(i*2-1))"
   ]
  },
  {
   "cell_type": "code",
   "execution_count": null,
   "metadata": {},
   "outputs": [],
   "source": [
    "import random\n",
    "a = random.randint(1,100)\n",
    "while True:\n",
    "    b=int(input('(1~100)숫자를 맞춰보세요'))\n",
    "    i=0\n",
    "    if a > b:\n",
    "        print('UP 입니다.')\n",
    "        i +=1\n",
    "    elif a<b:\n",
    "        print('Down입니다.')\n",
    "        i+=1\n",
    "    elif a==b :\n",
    "        print(f'정답입니다.\\n 총시도횟수: {i}')\n",
    "        break\n",
    "    else : print('다시입력하세요')\n",
    "\n"
   ]
  },
  {
   "cell_type": "code",
   "execution_count": 80,
   "metadata": {},
   "outputs": [
    {
     "data": {
      "text/plain": [
       "'고양이'"
      ]
     },
     "execution_count": 80,
     "metadata": {},
     "output_type": "execute_result"
    }
   ],
   "source": [
    "class Monster:\n",
    "    def __init__(self, name, attack):\n",
    "        self.name = name\n",
    "        self.attack = attack\n",
    "    def info (self):\n",
    "        print(f'이름 : {self.name}!\\n공격력 : {self.attack}')\n",
    "cat = Monster('고양이',3)\n",
    "cat.name"
   ]
  },
  {
   "cell_type": "code",
   "execution_count": 67,
   "metadata": {},
   "outputs": [
    {
     "name": "stdout",
     "output_type": "stream",
     "text": [
      "고양이 10 3\n"
     ]
    }
   ],
   "source": [
    "class Character:\n",
    "    def __init__(self,name,level,hp):\n",
    "        self.name = name\n",
    "        self.level = level\n",
    "        self.hp = hp\n",
    "    \n",
    "    def info(self):\n",
    "        print(self.name,self.level,self.hp)\n",
    "cat = Character('고양이', 10,3)\n",
    "cat.info()"
   ]
  }
 ],
 "metadata": {
  "kernelspec": {
   "display_name": "Python 3.9.12 ('base')",
   "language": "python",
   "name": "python3"
  },
  "language_info": {
   "codemirror_mode": {
    "name": "ipython",
    "version": 3
   },
   "file_extension": ".py",
   "mimetype": "text/x-python",
   "name": "python",
   "nbconvert_exporter": "python",
   "pygments_lexer": "ipython3",
   "version": "3.9.12"
  },
  "orig_nbformat": 4,
  "vscode": {
   "interpreter": {
    "hash": "ff4f85d6e04298634172ac5d8264e7e9b556b95639fe52ebb9425c4d4cba0c9c"
   }
  }
 },
 "nbformat": 4,
 "nbformat_minor": 2
}
