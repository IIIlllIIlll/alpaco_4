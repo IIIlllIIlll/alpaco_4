{
 "cells": [
  {
   "cell_type": "code",
   "execution_count": 78,
   "metadata": {},
   "outputs": [
    {
     "name": "stderr",
     "output_type": "stream",
     "text": [
      "C:\\Users\\kjk42\\AppData\\Local\\Temp\\ipykernel_21028\\279989947.py:7: DeprecationWarning: executable_path has been deprecated, please pass in a Service object\n",
      "  driver = webdriver.Chrome('c://chromedriver.exe')\n"
     ]
    }
   ],
   "source": [
    "from selenium import webdriver\n",
    "from selenium.webdriver.common.by import By\n",
    "from selenium.webdriver.common.keys import Keys\n",
    "from selenium.webdriver.support.ui import Select\n",
    "import time\n",
    "\n",
    "driver = webdriver.Chrome('c://chromedriver.exe')\n",
    "driver.get('https://www.letskorail.com/')"
   ]
  },
  {
   "cell_type": "code",
   "execution_count": 79,
   "metadata": {},
   "outputs": [],
   "source": [
    "start = driver.find_element(By.CSS_SELECTOR, '#txtGoStart')\n",
    "start.clear()\n",
    "time.sleep(1)\n",
    "start.send_keys('부산')\n",
    "driver.find_element(By.CSS_SELECTOR, '#uStn > li').click()"
   ]
  },
  {
   "cell_type": "code",
   "execution_count": 80,
   "metadata": {},
   "outputs": [],
   "source": [
    "end = driver.find_element(By.CSS_SELECTOR, '#txtGoEnd')\n",
    "end.clear()\n",
    "time.sleep(1)\n",
    "end.send_keys('서울')"
   ]
  },
  {
   "cell_type": "code",
   "execution_count": 81,
   "metadata": {},
   "outputs": [],
   "source": [
    "t_box = Select( driver.find_element(By.CSS_SELECTOR, '#time'))\n",
    "t_box.select_by_value('08')\n",
    "time.sleep(1)"
   ]
  },
  {
   "cell_type": "code",
   "execution_count": 82,
   "metadata": {},
   "outputs": [],
   "source": [
    "p_box = Select( driver.find_element(By.CSS_SELECTOR, '#people_num'))\n",
    "p_box.select_by_value('4')\n",
    "time.sleep(1)"
   ]
  },
  {
   "cell_type": "code",
   "execution_count": 83,
   "metadata": {},
   "outputs": [],
   "source": [
    "driver.execute_script('document.querySelector(\"#selGoStartDay\").removeAttribute(\"readonly\")')\n",
    "start_day = driver.find_element(By.CSS_SELECTOR, '#selGoStartDay')\n",
    "start_day.clear()\n",
    "start_day.send_keys('2022.11.17')"
   ]
  },
  {
   "cell_type": "code",
   "execution_count": 84,
   "metadata": {},
   "outputs": [],
   "source": [
    "time.sleep(1)\n",
    "driver.switch_to.window(driver.window_handles[0])\n",
    "driver.find_element(By.CSS_SELECTOR, '#res_cont_tab01 > form > div > fieldset > p > a > img').click()"
   ]
  }
 ],
 "metadata": {
  "kernelspec": {
   "display_name": "Python 3.9.12 ('base')",
   "language": "python",
   "name": "python3"
  },
  "language_info": {
   "codemirror_mode": {
    "name": "ipython",
    "version": 3
   },
   "file_extension": ".py",
   "mimetype": "text/x-python",
   "name": "python",
   "nbconvert_exporter": "python",
   "pygments_lexer": "ipython3",
   "version": "3.9.12"
  },
  "orig_nbformat": 4,
  "vscode": {
   "interpreter": {
    "hash": "ff4f85d6e04298634172ac5d8264e7e9b556b95639fe52ebb9425c4d4cba0c9c"
   }
  }
 },
 "nbformat": 4,
 "nbformat_minor": 2
}
