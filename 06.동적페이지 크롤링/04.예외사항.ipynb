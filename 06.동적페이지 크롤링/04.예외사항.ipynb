{
 "cells": [
  {
   "cell_type": "code",
   "execution_count": 12,
   "metadata": {},
   "outputs": [
    {
     "name": "stdout",
     "output_type": "stream",
     "text": [
      "1 A035720 카카오 58000\n",
      "2 A005930 삼성전자 61800\n",
      "3 A001570 금양 29550\n",
      "4 A323410 카카오뱅크 28250\n",
      "5 A001440 대한전선 1850\n",
      "6 A034020 두산에너빌리티 16900\n",
      "7 A068270 셀트리온 186500\n",
      "8 A373220 LG에너지솔루션 588000\n",
      "9 A003670 포스코케미칼 234000\n",
      "10 A019170 신풍제약 30100\n"
     ]
    }
   ],
   "source": [
    "import requests\n",
    "import json\n",
    "\n",
    "header = {\n",
    "    'User-Agent' : 'Mozila/5.0',\n",
    "    'referer': 'https://finance.daum.net/'\n",
    "}\n",
    "\n",
    "response = requests.get('https://finance.daum.net/api/search/ranks?limit=10',headers=header)\n",
    "data = json.loads(response.text)\n",
    "ranks = data['data']\n",
    "for rank in ranks:\n",
    "    ranking = rank['rank']\n",
    "    symbolcode = rank['symbolCode']\n",
    "    name = rank['name']\n",
    "    price = rank['tradePrice']\n",
    "    print(ranking,symbolcode,name,price,sep=' ')"
   ]
  },
  {
   "cell_type": "code",
   "execution_count": 2,
   "metadata": {},
   "outputs": [
    {
     "data": {
      "text/plain": [
       "' 광고'"
      ]
     },
     "execution_count": 2,
     "metadata": {},
     "output_type": "execute_result"
    }
   ],
   "source": []
  },
  {
   "cell_type": "code",
   "execution_count": null,
   "metadata": {},
   "outputs": [],
   "source": []
  }
 ],
 "metadata": {
  "kernelspec": {
   "display_name": "Python 3.9.12 ('base')",
   "language": "python",
   "name": "python3"
  },
  "language_info": {
   "codemirror_mode": {
    "name": "ipython",
    "version": 3
   },
   "file_extension": ".py",
   "mimetype": "text/x-python",
   "name": "python",
   "nbconvert_exporter": "python",
   "pygments_lexer": "ipython3",
   "version": "3.9.12"
  },
  "orig_nbformat": 4,
  "vscode": {
   "interpreter": {
    "hash": "ff4f85d6e04298634172ac5d8264e7e9b556b95639fe52ebb9425c4d4cba0c9c"
   }
  }
 },
 "nbformat": 4,
 "nbformat_minor": 2
}
