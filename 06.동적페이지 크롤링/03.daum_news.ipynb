{
 "cells": [
  {
   "cell_type": "code",
   "execution_count": 12,
   "metadata": {},
   "outputs": [
    {
     "name": "stderr",
     "output_type": "stream",
     "text": [
      "C:\\Users\\kjk42\\AppData\\Local\\Temp\\ipykernel_13908\\724250725.py:6: DeprecationWarning: executable_path has been deprecated, please pass in a Service object\n",
      "  driver = webdriver.Chrome('c://chromedriver.exe')\n"
     ]
    },
    {
     "name": "stdout",
     "output_type": "stream",
     "text": [
      "09:22 [중도금 대출 확대] 12억 중도금 대출 서울 둔촌주공 첫 적용 파이낸셜뉴스 https://v.daum.net/v/20221115092218114\n",
      "09:19 원/달러 환율 하락 출발…1,320원대 등락 연합뉴스 https://v.daum.net/v/20221115091905981\n",
      "09:18 ‘투자 대가’ 버핏, 5.4조원 규모 TSMC 지분 첫 매수 이데일리 https://v.daum.net/v/20221115091807928\n",
      "09:15 이재용·최태원·정의선·김동관, 사우디 '젊은 미래' 만난다 머니투데이 https://v.daum.net/v/20221115091517819\n",
      "09:13 'FTX 파산' 다이빙 하는 내 투자금...바하마에 가면 회수 가능하다? YTN https://v.daum.net/v/20221115091336736\n",
      "09:12 고물가에 반값·소용량 사는 '짠물 소비'…반값기획전 인기 연합뉴스 https://v.daum.net/v/20221115091241706\n",
      "09:12 코스피, 소폭 상승 2479선 출발…코스닥도 오름세 731선(2보) 뉴스1 https://v.daum.net/v/20221115091233700\n",
      "09:12 3분기 대기업 영업익 6조 날아가…한전 최대적자 '오명' 노컷뉴스 https://v.daum.net/v/20221115091205679\n",
      "09:11 [오락가락 부동산]①사전청약 또 '역사 속'...사라지는 '청약 보험' 비즈니스워치 https://v.daum.net/v/20221115091103645\n",
      "09:05 코스피, 소폭 상승 출발…2,480대로 올라서 연합뉴스 https://v.daum.net/v/20221115090541474\n",
      "09:05 일본과 다른 고향사랑기부금, '대박'일 수밖에 없는 이유 프레시안 https://v.daum.net/v/20221115090526469\n",
      "09:05 [속보] 코스피, 0.33%(8.11포인트) 오른 2482.76출발 더팩트 https://v.daum.net/v/20221115090502457\n",
      "09:04 '앞집 뷰' 논란 둔촌주공, 12월 일반분양 추진…흥행 촉각 이데일리 https://v.daum.net/v/20221115090413445\n",
      "09:03 교육재정 '칸막이' 없앤다…남아도는 초중고 교부금, 대학에 투입 아시아경제 https://v.daum.net/v/20221115090343424\n",
      "09:03 이병철 창업회장·이건희 선대회장으로…삼성, '회장' 호칭 정리 연합뉴스 https://v.daum.net/v/20221115090330414\n",
      "09:03 [중도금 대출 확대] 분양가 12억원 이하도 중도금 대출 허용 파이낸셜뉴스 https://v.daum.net/v/20221115090303387\n",
      "09:02 \"그림이야, 글자야?\"…배민, 새 서체 '글림체' 출시 뉴시스 https://v.daum.net/v/20221115090234373\n",
      "09:01 약속한 안전운임제 연장 국회선 5개월간 '공회전'…산업계 피해 '눈덩이' 헤럴드경제 https://v.daum.net/v/20221115090159348\n",
      "09:01 유럽 반도체 업체, 미·중 갈등 속 \"亞 사업 중단 계획 없다\" 아시아경제 https://v.daum.net/v/20221115090115307\n",
      "09:01 한국 기후위기 대응은 '꼴찌' 수준 …\"재생에너지 목표 감축 영향\" 프레시안 https://v.daum.net/v/20221115090108301\n"
     ]
    }
   ],
   "source": [
    "from selenium import webdriver\n",
    "from selenium.webdriver.common.by import By\n",
    "from selenium.webdriver.common.keys import Keys\n",
    "import time\n",
    "\n",
    "driver = webdriver.Chrome('c://chromedriver.exe')\n",
    "driver.get('https://news.daum.net/economic#1')\n",
    "\n",
    "time.sleep(2)\n",
    "list_realtimetitle = driver.find_elements(By.CSS_SELECTOR,'.list_realtime>li')\n",
    "\n",
    "for realtimetile in list_realtimetitle:\n",
    "    title = realtimetile.find_element(By.CSS_SELECTOR,'.tit_g>a').text\n",
    "    link = realtimetile.find_element(By.CSS_SELECTOR,'.tit_g>a').get_attribute('href')\n",
    "    cp = realtimetile.find_element(By.CSS_SELECTOR,'.tit_g>.info_cp').text\n",
    "    t = realtimetile.find_element(By.CSS_SELECTOR,'.txt_time').text\n",
    "    print(t,title,cp,link)"
   ]
  },
  {
   "cell_type": "code",
   "execution_count": 11,
   "metadata": {},
   "outputs": [
    {
     "name": "stdout",
     "output_type": "stream",
     "text": [
      "고물가에 반값·소용량 사는 '짠물 소비'…반값기획전 인기 https://v.daum.net/v/20221115091241706 연합뉴스 11월15일 09:12\n",
      "코스피, 소폭 상승 2479선 출발…코스닥도 오름세 731선(2보) https://v.daum.net/v/20221115091233700 뉴스1 11월15일 09:12\n",
      "3분기 대기업 영업익 6조 날아가…한전 최대적자 '오명' https://v.daum.net/v/20221115091205679 노컷뉴스 11월15일 09:12\n",
      "코스피, 소폭 상승 출발…2,480대로 올라서 https://v.daum.net/v/20221115090541474 연합뉴스 11월15일 09:05\n",
      "일본과 다른 고향사랑기부금, '대박'일 수밖에 없는 이유 https://v.daum.net/v/20221115090526469 프레시안 11월15일 09:05\n",
      "[속보] 코스피, 0.33%(8.11포인트) 오른  2482.76출발 https://v.daum.net/v/20221115090502457 더팩트 11월15일 09:05\n",
      "교육재정 '칸막이' 없앤다…남아도는 초중고 교부금, 대학에 투입 https://v.daum.net/v/20221115090343424 아시아경제 11월15일 09:03\n",
      "이병철 창업회장·이건희 선대회장으로…삼성, '회장' 호칭 정리 https://v.daum.net/v/20221115090330414 연합뉴스 11월15일 09:03\n",
      "[중도금 대출 확대] 분양가 12억원 이하도 중도금 대출 허용 https://v.daum.net/v/20221115090303387 파이낸셜뉴스 11월15일 09:03\n",
      "약속한 안전운임제 연장 국회선 5개월간 '공회전'…산업계 피해 '눈덩이' https://v.daum.net/v/20221115090159348 헤럴드경제 11월15일 09:01\n",
      "유럽 반도체 업체, 미·중 갈등 속 \"亞 사업 중단 계획 없다\" https://v.daum.net/v/20221115090115307 아시아경제 11월15일 09:01\n",
      "한국 기후위기 대응은 '꼴찌' 수준 …\"재생에너지 목표 감축 영향\" https://v.daum.net/v/20221115090108301 프레시안 11월15일 09:01\n",
      "고등·평생교육 특별회계 신설…교부금 등 11.2조원 투입 https://v.daum.net/v/20221115090101289 헤럴드경제 11월15일 09:01\n",
      "대학에 11.2조 원 수혈한다… 정부, 고등교육 특별회계 편성 https://v.daum.net/v/20221115090100287 한국일보 11월15일 09:01\n",
      "고등·평생교육 지원 특별회계 11.2조로 신설…\"자율혁신 뒷받침\" https://v.daum.net/v/20221115090033267 이데일리 11월15일 09:00\n",
      "또 마지막 문턱 못 넘고… 빅파마 치매 치료제, 다시 좌절 https://v.daum.net/v/20221115090022250 아시아경제 11월15일 09:00\n",
      "이인실 특허청장, 아세안 8개국 특허청장과 연쇄 회담 https://v.daum.net/v/20221115090004219 연합뉴스 11월15일 09:00\n",
      "메리츠證 \"연말 환율 전망 1400원→1350원…인플레 우려 감소\" https://v.daum.net/v/20221115085939194 뉴스1 11월15일 08:59\n",
      "미 대학 \"갤럭시워치 체성분 측정치 전문기기와 상관관계 높아\" https://v.daum.net/v/20221115085929191 연합뉴스 11월15일 08:59\n",
      "8인승 소형잠수정 배치 눈앞… 잠수함 탑재한다 https://v.daum.net/v/20221115085904177 아시아경제 11월15일 08:59\n",
      "고물가에 반값·소용량 사는 '짠물 소비'…반값기획전 인기 https://v.daum.net/v/20221115091241706 연합뉴스 11월15일 09:12\n",
      "코스피, 소폭 상승 2479선 출발…코스닥도 오름세 731선(2보) https://v.daum.net/v/20221115091233700 뉴스1 11월15일 09:12\n",
      "3분기 대기업 영업익 6조 날아가…한전 최대적자 '오명' https://v.daum.net/v/20221115091205679 노컷뉴스 11월15일 09:12\n",
      "코스피, 소폭 상승 출발…2,480대로 올라서 https://v.daum.net/v/20221115090541474 연합뉴스 11월15일 09:05\n",
      "일본과 다른 고향사랑기부금, '대박'일 수밖에 없는 이유 https://v.daum.net/v/20221115090526469 프레시안 11월15일 09:05\n",
      "[속보] 코스피, 0.33%(8.11포인트) 오른  2482.76출발 https://v.daum.net/v/20221115090502457 더팩트 11월15일 09:05\n",
      "교육재정 '칸막이' 없앤다…남아도는 초중고 교부금, 대학에 투입 https://v.daum.net/v/20221115090343424 아시아경제 11월15일 09:03\n",
      "이병철 창업회장·이건희 선대회장으로…삼성, '회장' 호칭 정리 https://v.daum.net/v/20221115090330414 연합뉴스 11월15일 09:03\n",
      "[중도금 대출 확대] 분양가 12억원 이하도 중도금 대출 허용 https://v.daum.net/v/20221115090303387 파이낸셜뉴스 11월15일 09:03\n",
      "약속한 안전운임제 연장 국회선 5개월간 '공회전'…산업계 피해 '눈덩이' https://v.daum.net/v/20221115090159348 헤럴드경제 11월15일 09:01\n",
      "유럽 반도체 업체, 미·중 갈등 속 \"亞 사업 중단 계획 없다\" https://v.daum.net/v/20221115090115307 아시아경제 11월15일 09:01\n",
      "한국 기후위기 대응은 '꼴찌' 수준 …\"재생에너지 목표 감축 영향\" https://v.daum.net/v/20221115090108301 프레시안 11월15일 09:01\n",
      "고등·평생교육 특별회계 신설…교부금 등 11.2조원 투입 https://v.daum.net/v/20221115090101289 헤럴드경제 11월15일 09:01\n",
      "대학에 11.2조 원 수혈한다… 정부, 고등교육 특별회계 편성 https://v.daum.net/v/20221115090100287 한국일보 11월15일 09:01\n",
      "고등·평생교육 지원 특별회계 11.2조로 신설…\"자율혁신 뒷받침\" https://v.daum.net/v/20221115090033267 이데일리 11월15일 09:00\n",
      "또 마지막 문턱 못 넘고… 빅파마 치매 치료제, 다시 좌절 https://v.daum.net/v/20221115090022250 아시아경제 11월15일 09:00\n",
      "이인실 특허청장, 아세안 8개국 특허청장과 연쇄 회담 https://v.daum.net/v/20221115090004219 연합뉴스 11월15일 09:00\n",
      "메리츠證 \"연말 환율 전망 1400원→1350원…인플레 우려 감소\" https://v.daum.net/v/20221115085939194 뉴스1 11월15일 08:59\n",
      "미 대학 \"갤럭시워치 체성분 측정치 전문기기와 상관관계 높아\" https://v.daum.net/v/20221115085929191 연합뉴스 11월15일 08:59\n",
      "8인승 소형잠수정 배치 눈앞… 잠수함 탑재한다 https://v.daum.net/v/20221115085904177 아시아경제 11월15일 08:59\n",
      "시중은행 예금금리 5% 뛰니…당국 \"자금조달 경쟁 자제해라\"(종합) https://v.daum.net/v/20221115085743147 이데일리 11월15일 08:57\n",
      "버핏이 선택한 반도체株...\"단숨에 투자비중 톱10\" https://v.daum.net/v/20221115085511074 한국경제TV 11월15일 08:55\n",
      "NH투자 \"에스엠, 이수만 부재에도 정체성 지속…인세 절감\" https://v.daum.net/v/20221115085220005 연합뉴스 11월15일 08:52\n",
      "대기업 `1년 내 만기` 회사채 406조원…은행·車·한전 등 비중 높아 https://v.daum.net/v/20221115085218004 디지털타임스 11월15일 08:52\n",
      "김학도 이사장 \"반도체·원전, 국가전략기술 전문인력 양성\" https://v.daum.net/v/20221115085212999 뉴스1 11월15일 08:52\n",
      "\"중국을 밖에서부터 포위\"…롯데면세점의 역발상 투자 [박동휘의 컨슈머 리포트] https://v.daum.net/v/20221115085002945 한국경제 11월15일 08:50\n",
      "[르포] 'K-바이오만 있나'…독일 메디카 누비는 K-의료기기 https://v.daum.net/v/20221115084743901 뉴스1 11월15일 08:47\n",
      "[영상]테슬라 미친듯 폭주, 급발진 공방…中서 역주행 5명 사상[차이나픽] https://v.daum.net/v/20221115084306789 헤럴드경제 11월15일 08:43\n",
      "무신사, '무진장 블랙 프라이데이' 첫날 판매액 338억 돌파 https://v.daum.net/v/20221115084245782 뉴시스 11월15일 08:42\n",
      "피부양자서 탈락한 27만3000명…내달부터 건보료 낸다 https://v.daum.net/v/20221115084109730 디지털타임스 11월15일 08:41\n",
      "국제유가, 中 확진자 급증, 달러 강세에 하락…WTI 3.47%↓ https://v.daum.net/v/20221115084059726 조선비즈 11월15일 08:40\n",
      "파산 '일파만파' FTX…사이트 해외 방문자 중 韓 비중 2위 https://v.daum.net/v/20221115083905679 SBS Biz 11월15일 08:39\n",
      "英, 대한항공-아시아나 합병 '심사유예'…\"독과점 해소하라\" https://v.daum.net/v/20221115083808660 뉴시스 11월15일 08:38\n",
      "삼성증권, 코스맥스 목표가↑…\"중국방역 완화에 관심 회복\" https://v.daum.net/v/20221115083552609 연합뉴스 11월15일 08:35\n",
      "대기업 3분기 이익, 전년比 6조 증발…한전·삼전 감소액 최대 https://v.daum.net/v/20221115083528597 뉴시스 11월15일 08:35\n",
      "이재용·최태원·정의선·김동관, 빈 살만 왕세자와 차담회 https://v.daum.net/v/20221115083517591 뉴시스 11월15일 08:35\n",
      "최대 가상화폐 거래소 바이낸스 CEO \"FTX 사태 일부 연쇄 영향\"(종합) https://v.daum.net/v/20221115083351564 연합뉴스 11월15일 08:33\n",
      "사라지는 '추억의 바다'…결국 파산한 1세대 음원 플랫폼｜도시락 있슈 https://v.daum.net/v/20221115083150518 JTBC 11월15일 08:31\n",
      "연준 부의장 \"금리인상 속도 곧 느려질 것…더 할 일 있다\" https://v.daum.net/v/20221115083115500 디지털타임스 11월15일 08:31\n",
      "거래소, LG화학 美테네시주 양극재 공장 설립 조회공시 요구 https://v.daum.net/v/20221115083054491 뉴시스 11월15일 08:30\n"
     ]
    }
   ],
   "source": [
    "# ajax 크롤링\n",
    "import requests\n",
    "import json\n",
    "import pandas as pd\n",
    "for i in range(3):\n",
    "    response = requests.get(f'https://news.daum.net/api/harmonydic/contents/news.json?category=economic&approved=true&page={i}&pageSize=20&pagesToShow=10&range=1')\n",
    "    data = json.loads(response.text)\n",
    "    articles = data['list']\n",
    "    for article in articles:\n",
    "        link = article['contentUrl']\n",
    "        title = article['title']\n",
    "        cp = article['cpKorName']\n",
    "        summ = article['summary']\n",
    "        date = article['newsId']\n",
    "        timeline = date[4:6]+'월'+date[6:8]+'일'+' '+date[8:10]+':'+date[10:12]\n",
    "        print(title,link,cp,timeline)"
   ]
  },
  {
   "cell_type": "code",
   "execution_count": 10,
   "metadata": {},
   "outputs": [
    {
     "data": {
      "text/plain": [
       "'11월15일 08:18'"
      ]
     },
     "execution_count": 10,
     "metadata": {},
     "output_type": "execute_result"
    }
   ],
   "source": [
    "date[4:6]+'월'+date[6:8]+'일'+' '+date[8:10]+':'+date[10:12]"
   ]
  },
  {
   "cell_type": "code",
   "execution_count": null,
   "metadata": {},
   "outputs": [],
   "source": []
  }
 ],
 "metadata": {
  "kernelspec": {
   "display_name": "Python 3.9.12 ('base')",
   "language": "python",
   "name": "python3"
  },
  "language_info": {
   "codemirror_mode": {
    "name": "ipython",
    "version": 3
   },
   "file_extension": ".py",
   "mimetype": "text/x-python",
   "name": "python",
   "nbconvert_exporter": "python",
   "pygments_lexer": "ipython3",
   "version": "3.9.12"
  },
  "orig_nbformat": 4,
  "vscode": {
   "interpreter": {
    "hash": "ff4f85d6e04298634172ac5d8264e7e9b556b95639fe52ebb9425c4d4cba0c9c"
   }
  }
 },
 "nbformat": 4,
 "nbformat_minor": 2
}
