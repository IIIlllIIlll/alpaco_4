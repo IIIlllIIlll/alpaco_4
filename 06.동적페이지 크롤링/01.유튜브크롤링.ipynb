{
 "cells": [
  {
   "cell_type": "code",
   "execution_count": 8,
   "metadata": {},
   "outputs": [],
   "source": [
    "# from bs4 import BeautifulSoup\n",
    "# import requests\n",
    "# header = {\n",
    "#     'User~Agent' : 'Mozila/5.0'\n",
    "# }\n",
    "\n",
    "# headers = header\n",
    "\n",
    "# response = requests.get('https://www.youtube.com/results?search_query=%EC%8A%A4%ED%83%80%ED%8A%B8%EC%BD%94%EB%94%A9',headers)\n",
    "# html = response.text\n",
    "# soup = BeautifulSoup(html, 'html.parser')\n",
    "# title = soup.select_one('a #video-title')\n",
    "# title"
   ]
  },
  {
   "cell_type": "code",
   "execution_count": 11,
   "metadata": {},
   "outputs": [
    {
     "name": "stderr",
     "output_type": "stream",
     "text": [
      "C:\\Users\\kjk42\\AppData\\Local\\Temp\\ipykernel_20700\\3604129377.py:6: DeprecationWarning: executable_path has been deprecated, please pass in a Service object\n",
      "  driver = webdriver.Chrome('c://chromedriver.exe')\n"
     ]
    },
    {
     "data": {
      "text/plain": [
       "'[11월 11일 당신이 잠든 사이] 미증시 급등...CPI/다우/S&P/나스닥'"
      ]
     },
     "execution_count": 11,
     "metadata": {},
     "output_type": "execute_result"
    }
   ],
   "source": [
    "from selenium import webdriver\n",
    "from selenium.webdriver.common.by import By\n",
    "from selenium.webdriver.common.keys import Keys\n",
    "import time\n",
    "\n",
    "driver = webdriver.Chrome('c://chromedriver.exe')\n",
    "driver.get('https://www.youtube.com/results?search_query=%EB%82%98%EC%8A%A4%EB%8B%A5')\n",
    "\n",
    "title = driver.find_element(By.CSS_SELECTOR, 'a#video-title')\n",
    "title.text\n",
    "\n"
   ]
  },
  {
   "cell_type": "code",
   "execution_count": 33,
   "metadata": {},
   "outputs": [
    {
     "name": "stderr",
     "output_type": "stream",
     "text": [
      "C:\\Users\\kjk42\\AppData\\Local\\Temp\\ipykernel_20700\\2800629732.py:1: DeprecationWarning: executable_path has been deprecated, please pass in a Service object\n",
      "  driver = webdriver.Chrome('c://chromedriver.exe')\n"
     ]
    },
    {
     "name": "stdout",
     "output_type": "stream",
     "text": [
      "1 [11월 11일 당신이 잠든 사이] 미증시 급등...CPI/다우/S&P/나스닥 조회수 9.4만회 스트리밍 시간: 3일 전\n",
      "2 [예민수의 딥사이트] 내년 수익률 나스닥 보다 코스피가 더 좋다? / 머니투데이방송 (증시, 증권) 조회수 5.4천회 4일 전\n",
      "3 나스닥 7% 급등에 우리 증시도 '활짝'‥환율은 59원 급락 (2022.11.11/뉴스데스크/MBC) 조회수 3.2천회 2일 전\n",
      "4 미국증시 주간전망, S&P500 나스닥 조심해야 할 필요 있다? 달러 강세 지속될 수 있다?, TQQQ ETF, SOXL ETF, SQQQ ETF, SOXS ETF 조회수 2.7천회 8시간 전\n",
      "5 나스닥 이틀동안 10% 급등! 미국주식 이제 진짜 바닥 찍었나? 조회수 4.1만회 2일 전\n",
      "6 미친 물가! 미친 나스닥! 조회수 8.1만회 3일 전\n",
      "7 나스닥 \"산타랠리\" 대신 \"다른게\"온다 😱 일단 12월 +10% 더 드셔야죠 ㅎㅎ.. 조회수 1.4만회 2일 전\n",
      "8 미국주식 나스닥 9% 반등 vs 테슬라 -5% 하락, 중요한 전환점 돌입! 조회수 2.5만회 1일 전\n",
      "9 여기까지 반등 시 나스닥 매도 고려합니다.여기까지 하락 시 매수합니다. TQQQ, SOXL 잭슨홀 시나리오랑 동일하다.. 중국 호재를 해석하는 방법 조회수 6.4천회 20시간 전\n",
      "10 SOXL, 폭락패턴! 이때! #soxl #미국주식 #nasdaq #나스닥 조회수 4.5천회 1일 전\n",
      "11 이제 산타랠리가 옵니다 그냥 넘기지 마세요 (나스닥 연일 급등, 코인 파산 신청, 머스크 테슬라 주식 매도 시점, 반전된 킹달러, 정유주 급등, 아마존 급등, 산타랠리 시작) 조회수 1.1만회 2일 전\n",
      "12 미국증시 나스닥 어디까지 오르나요? S&P500 어디부근에서 현금 비중 늘려야 하나요? 해답은? TQQQ ETF, SOXL ETF, SQQQ ETF, SOXS ETF 조회수 5천회 1일 전\n",
      "13 CPI 발표 후 '폭등', 앞으로 주식시장 '이렇게' 됩니다 조회수 8만회 3일 전\n",
      "14 TQQQ 쌍바닥에서 몰빵했습니다 (2008년처럼 나스닥 폭락한다면?) 조회수 4.4천회 10일 전\n",
      "15 방향의 터닝포인트는 나왔다(f. 김동현) [8시_마켓시그널] 조회수 889회 6시간 전\n",
      "16 [11월 14일 당신이 잠든 사이] FTX/CPI/정상회담/중간선거... 증시는 어디로 향하고 있나 조회수 6.6만회 스트리밍 시간: 8시간 전\n",
      "17 미국 주식과 부동산 거품은 꺼지고 있는 중. 한단계 더 낮아질 듯 [인포맥스라이브] 김영익 서강대학교 경제대학원 교수 조회수 6.6만회 1일 전\n",
      "18 자이언트스텝, 메타버스 관련주...금일 4%대 강세 [이종복의 실전매매 최고수의 길 / 마켓10] 조회수 638회 3시간 전\n",
      "19 예상보다 낮게 나온 미국 CPI / S&P500, 나스닥은 폭등 중 / 앞으로 자산 시장의 방향은? (김광석 교수) @김광석의 [경제 읽어주는 남자TV] 조회수 15만회 3일 전\n",
      "20 어제 폭등하고, 오늘도 또 상승?! 나스닥 오늘도 2% 급등, 이틀 동안 9% 폭등! | 씨티 \"숏포지션 철회합니다\" VS CS \"이렇게 오를 근거가 없는데..?\" 조회수 6.3천회 2일 전\n",
      "21 연말랠리? 급락신호 발생! #테슬라 #tesla #teslastock #미국주식 #nasdaq #나스닥 조회수 8.6천회 3일 전\n",
      "22 나스닥 3.8% 급락 이건 꼭 알고 가세요 (망가진 반도체 시장, AMD 충격적 실적 경고, FED 조기 선회 없다, 테슬라 급락, 9월 고용지표) 조회수 6.3천회 1개월 전\n",
      "23 나스닥 상승! 진짜 상승 신호는 따로 있다? | 미국 주식 분석 & 비트코인 디커플링 조회수 8.1천회 5개월 전\n",
      "24 다우 14% 급등, 맥없는 나스닥 기회일까!? (ft. 소형주의 반란) 조회수 1.9만회 8일 전\n",
      "25 나스닥 폭락. 파월은 우리를 더 괴롭힐 것입니다. 조회수 9.9만회 11일 전\n",
      "26 CPI는 예상대로 박살났습니다. 그런데 7% 상승은.... 조회수 1.1만회 3일 전\n",
      "27 저도 1/3은 팔았습니다. 테슬라 반드시 '이것'은 알고 투자해야 합니다 (박세익 4부) 조회수 5.7만회 1개월 전\n",
      "28 구글, 슈퍼컴 뛰어넘는 양자컴퓨터 \"2030년까지 개발\"…우리 기술은? - [친절한 뉴스K] / KBS 2022.10.04. 조회수 4.3만회 1개월 전\n",
      "29 Apple 이벤트 — 9월 7일 조회수 2882만회 스트리밍 시간: 2개월 전\n",
      "30 나스닥 70억 풀배팅 레전드 찍은날 조회수 33만회 6개월 전\n",
      "31 CPI +7.7%에 환호한 나스닥 +7.3% 급등 / '이 신호' 나오면 적극 투자하라?_22.11.11 조회수 36만회 스트리밍 시간: 3일 전\n",
      "32 10월 증시 바닥설이 마지막 희망?, 나스닥 단기 반등 가능할까 조회수 6.7만회 3주 전\n",
      "33 미국 10월 비농 신규 고용 & 실업률 , 비트코인 나스닥 주식 조회수 3.4만회 스트리밍 시간: 9일 전\n",
      "34 새로운 시한폭탄의 등장? 나스닥 흔드는 트리거 될까 조회수 11만회 2주 전\n",
      "35 내년 경기는 더 힘듭니다 오늘 나스닥 들어올린 이유 (미국주식 반등, 12월 긴축 완화, 일론 장기 침체 거론, 다음주 빅테크 실적 발표, 스냅 28% 폭락) 조회수 1.3만회 3주 전\n",
      "36 나스닥 대폭락 확정? 아직도 추가로 하락할 큰 거 2방이 남아 있습니다. 조회수 2.7천회 10일 전\n",
      "37 제롬파월 진짜 개Xㄲ 네 발언 나스닥 -3.36% 급락한이유 FNGU BULZ SOXL TQQQ 장기투자하는데 죽을맛이네요 계좌 -78.20%입니다 조회수 3.7천회 11일 전\n",
      "38 겨우 이 정도에 나스닥이 하락하다니.... 조회수 9.7만회 4주 전\n",
      "39 나스닥 역대급 반등이 나온 6가지 이유 조회수 9.7만회 1개월 전\n",
      "40 환율로 설명드리죠, 긴축과 경기침체 를 두려워 마세요! 연말까지 나스닥 14000 갑니다! | 윤채현 소장 조회수 3.8만회 2주 전\n",
      "41 (긴급) 최악의 CPI, 하지만 나스닥은 폭등! 왜 그럴까..? 조회수 3만회 4주 전\n",
      "42 나스닥 연중 최저로 마감, 곧 박살난다? 그건 아니라고 봅니다 조회수 1.4만회 4주 전\n",
      "43 [아침시황] 기대했던 것보다 더 최악...ㅣ나스닥의 조정으로 끝날 것인가? 다시한번 조정으로 이어질 것인가? 조회수 6.1천회 스트리밍 시간: 2주 전\n",
      "44 나스닥 상승랠리, 다음주 빌런 등장! (ft. 14% 고배당 기업) 조회수 2.8만회 2주 전\n",
      "45 \"나스닥 또 폭락\" 이번주 증시 이렇게 됩니다. 조회수 9.2만회 4주 전\n",
      "46 미국증시 시황분석, 나스닥 S&P500 하락, TQQQ ETF, SOXL ETF, SQQQ ETF, SOXS ETF, 애플, 마이크로소프트, 아마존, 구글 주가 부진 조회수 3.1천회 10일 전\n",
      "47 8분 연설에 녹아버린 나스닥, 대응은 어떻게 할까 조회수 8.9만회 2개월 전\n",
      "48 한국 개미가 나스닥 저점을 맞추고 벌어진 일 조회수 3.5만회 3주 전\n",
      "49 해외선물 실시간방송 이택삼TV]11월13일(일) 나스닥 내일 추가 가능성에 대해#해외선물실시간#해외주식 #나스닥#WTI#나스닥#fomc 조회수 1.9천회 스트리밍 시간: 14시간 전\n",
      "50 뉴욕증시 패닉 급락! 나스닥 -3.1% 하락(반등 가능성 전혀 없나)! 조회수 1.5만회 4주 전\n",
      "51 나스닥+1.28%#중간선거#10월소비자물가지수#중국제로코로나완화설#낙폭과대숏커버링#2차전지#금투세#오늘장대응전략은 조회수 1.2만회 7일 전\n",
      "52 어제 나스닥이 '지옥'에서 '천당'로 간 이유 조회수 2.1만회 2주 전\n",
      "53 나스닥 급등, 환율 급락에도 마냥 기대만 할 수 없는 이유 조회수 4.7만회 9일 전\n",
      "54 CPI +7.7%에 환호한 나스닥 +7.3% 급등 / '이 신호' 나오면 적극 투자하라?_22.11.11 조회수 36만회 스트리밍 시간: 3일 전\n",
      "55 나스닥의 현위치? 바닥 찍었나? #나스닥 #nasdaq #미국주식 조회수 3천회 14시간 전\n",
      "56 [미국주식] 힘을 못받는 TQQQ / QQQ / 나스닥, 지금이 매수 기회일가? FEAT(AAPL, MSFT, AMZN, GOOG, TSLA, META, JPM) 조회수 5.9천회 7일 전\n",
      "57 나스닥 어디까지 하락할까? 조회수 3.3천회 1개월 전\n",
      "58 결전의 날 [FOMC] 미국 금리 발표 및 파월 기자회견 실시간 통번역 , 비트코인 나스닥 주식 조회수 8.9만회 스트리밍 시간: 11일 전\n",
      "59 미국증시 시황분석, 나스닥 상승이유는? 변동성 장세! TQQQ ETF, SOXL ETF, SQQQ ETF, SOXS ETF, 유가 급등, 천연가스 급등, UCO, BOIL ETF 조회수 4.2천회 9일 전\n",
      "60 나스닥 급등, 환율 급락에도 마냥 기대만 할 수 없는 이유 조회수 4.7만회 9일 전\n",
      "61 나스닥 폭등! 하지만 뭔가 찜찜하네요. 조회수 9.1만회 3주 전\n",
      "62 나스닥 또 급락. 하나도 아니고 두가지 악재가 동시에 일어나네요. 조회수 11만회 1개월 전\n",
      "63 미국증시 시황분석, S&P500 나스닥 전약후강, TQQQ ETF, SOXL ETF, SQQQ ETF, SOXS ETF, 모건스탠리 베어마켓 랠리 전망? 테슬라, 알리바바 주식 조회수 3.9천회 2주 전\n",
      "64 FOMC는 끝났습니다 다가오는 증시 악재들 (나스닥 3% 급락, 주가 폭락 시킨 파월, 긴축 중단 안돼, 다시 강달러, 퀄컴 실적 후 급락) 조회수 5천회 11일 전\n",
      "65 테슬라, 자율주행 완성! #테슬라 #tesla #teslastock #미국주식 #nasdaq #나스닥 조회수 1.8천회 4시간 전\n",
      "66 연준 12월 50bp 금리인상!!!!!! 나스닥 가즈아!!!!!!!! 조회수 1만회 3주 전\n",
      "67 키움증권 나스닥 숏 잡자마자 2년만에 최대 폭락! 조회수 9.7만회 1개월 전\n",
      "68 어제 나스닥이 하락한 진짜 이유(우리는 지금 걱정할 필요가 없다!) 조회수 3.1만회 1개월 전\n",
      "69 해외선물 실시간 방송 [11/02] 어벤져스TV 성훈 - 나스닥 FOMC전까지 큰방향은 안주려나봅니다 조회수 7.9천회 스트리밍 시간: 11일 전\n",
      "70 파월은 FOMC에서 이렇게 말합니다... 그래서 나스닥이 밀려요 조회수 9.6천회 12일 전\n",
      "71 해외선물 다시보기ㅣ나스닥 차트, 급락 이후 나스닥의 행방은? (김과장편) [11/03] 조회수 562회 스트리밍 시간: 10일 전\n",
      "72 해외선물 실시간방송 이택삼TV]11월13일(일) 나스닥 내일 추가 가능성에 대해#해외선물실시간#해외주식 #나스닥#WTI#나스닥#fomc 조회수 1.9천회 스트리밍 시간: 14시간 전\n",
      "73 나스닥 -3% 하락, 굉장한 투자기회가 오고 있습니다. 조회수 6.8천회 스트리밍 시간: 4주 전\n",
      "74 또 급락한 나스닥 앞으로 이게 정말 중요합니다미국주식 연일 급락 이유 (금리 5%로 올린다, 모든게 고용, 애플 급락, 미국 기업 실적 발표) 조회수 3.3천회 10일 전\n",
      "75 해외선물 실시간방송 이택삼TV]10월28일(금) 10월 여전히 수익중이나 5개월만에 첫 로스컷! 반성의 기회로 심기일전!!#해외선물실시간#해외주식 #나스닥#WTI#나스닥#fomc 조회수 1.8만회 스트리밍 시간: 2주 전\n",
      "76 해외선물 다시보기ㅣ나스닥 차트, FOMC 앞둔 10월마지막날 나스닥 월동준비 !! (이부장편) [10/31] 조회수 1.5천회 스트리밍 시간: 13일 전\n",
      "77 내년 경기는 더 힘들겁니다 나스닥 급등한 3가지 이유 (금융 기술주 랠리, 영국 리스크 해소, 로블록스 20%급등, 테슬라 실적 발표) 조회수 8.4천회 3주 전\n",
      "78 해외선물 실시간11/3 현지 fomc 후 나스닥은 어디로? 뭐가 됐든 수익은 언제나 옳다!!!! #나스닥실시간 #오일 #주식 #코인 #나스닥 조회수 4.7천회 스트리밍 시간: 10일 전\n",
      "79 해외선물 실시간방송 이택삼TV]11월4일(금) 오늘 전점 고점 진폭 100프로 적중!!이것이 차트 매매다!!#해외선물실시간#해외주식 #나스닥#WTI#나스닥#fomc 조회수 1.8만회 스트리밍 시간: 9일 전\n"
     ]
    }
   ],
   "source": [
    "driver = webdriver.Chrome('c://chromedriver.exe')\n",
    "driver.get('https://www.youtube.com/results?search_query=%EB%82%98%EC%8A%A4%EB%8B%A5')\n",
    "\n",
    "for i in range(3):\n",
    "    driver.find_element(By.CSS_SELECTOR,'body').send_keys(Keys.END)\n",
    "    time.sleep(2)\n",
    "\n",
    "metas = driver.find_elements(By.CSS_SELECTOR,'div#meta')\n",
    "a=0\n",
    "#title = meta.find_element(By.CSS_SELECTOR,'a#video-title')\n",
    "#view = meta.find_element(By.CSS_SELECTOR,'#metadata-line > span:nth-child(2)')\n",
    "\n",
    "\n",
    "for meta in metas:\n",
    "    try:\n",
    "        title = meta.find_element(By.CSS_SELECTOR,'a#video-title').text\n",
    "        view = meta.find_element(By.CSS_SELECTOR,'#metadata-line > span:nth-child(2)').text # nth-child 나 nth-of-type\n",
    "        when = meta.find_element(By.CSS_SELECTOR,'#metadata-line > span:nth-child(3)').text\n",
    "        a+=1\n",
    "        print(a,title,view,when)\n",
    "    except:\n",
    "        pass"
   ]
  },
  {
   "cell_type": "code",
   "execution_count": null,
   "metadata": {},
   "outputs": [],
   "source": []
  }
 ],
 "metadata": {
  "kernelspec": {
   "display_name": "Python 3.9.12 ('base')",
   "language": "python",
   "name": "python3"
  },
  "language_info": {
   "codemirror_mode": {
    "name": "ipython",
    "version": 3
   },
   "file_extension": ".py",
   "mimetype": "text/x-python",
   "name": "python",
   "nbconvert_exporter": "python",
   "pygments_lexer": "ipython3",
   "version": "3.9.12"
  },
  "orig_nbformat": 4,
  "vscode": {
   "interpreter": {
    "hash": "ff4f85d6e04298634172ac5d8264e7e9b556b95639fe52ebb9425c4d4cba0c9c"
   }
  }
 },
 "nbformat": 4,
 "nbformat_minor": 2
}
